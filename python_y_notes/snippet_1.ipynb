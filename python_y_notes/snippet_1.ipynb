{
 "cells": [
  {
   "cell_type": "markdown",
   "metadata": {},
   "source": [
    " file extension .ipynb > IPython Notebook "
   ]
  },
  {
   "cell_type": "code",
   "execution_count": 8,
   "metadata": {},
   "outputs": [
    {
     "name": "stdout",
     "output_type": "stream",
     "text": [
      "2\n"
     ]
    }
   ],
   "source": [
    "x=2 \n",
    "print(x)"
   ]
  },
  {
   "cell_type": "markdown",
   "metadata": {},
   "source": [
    "2.0  3. float \n",
    "type(data) returns the type\n",
    "type casting \n",
    "    int(2.4) == 2 \n",
    "    int(3.9) == 3\n",
    "    float(4) == 4.0"
   ]
  },
  {
   "cell_type": "code",
   "execution_count": 14,
   "metadata": {},
   "outputs": [
    {
     "data": {
      "text/plain": [
       "6"
      ]
     },
     "execution_count": 14,
     "metadata": {},
     "output_type": "execute_result"
    }
   ],
   "source": [
    "#variable assignment\n",
    "a=2\n",
    "a\n",
    "a+5\n",
    "b=4+2\n",
    "b\n"
   ]
  },
  {
   "cell_type": "markdown",
   "metadata": {},
   "source": [
    "Successive Concatenation (Ardısık birlestirme) *\n",
    "\n",
    "Concatenation (birlestirme) +"
   ]
  },
  {
   "cell_type": "code",
   "execution_count": 20,
   "metadata": {},
   "outputs": [
    {
     "data": {
      "text/plain": [
       "' selin selin selin selin'"
      ]
     },
     "execution_count": 20,
     "metadata": {},
     "output_type": "execute_result"
    }
   ],
   "source": [
    "4* \" selin\"\n"
   ]
  },
  {
   "cell_type": "code",
   "execution_count": 21,
   "metadata": {},
   "outputs": [
    {
     "data": {
      "text/plain": [
       "1"
      ]
     },
     "execution_count": 21,
     "metadata": {},
     "output_type": "execute_result"
    }
   ],
   "source": [
    "len(\"3\")"
   ]
  },
  {
   "cell_type": "code",
   "execution_count": 22,
   "metadata": {},
   "outputs": [
    {
     "data": {
      "text/plain": [
       "9"
      ]
     },
     "execution_count": 22,
     "metadata": {},
     "output_type": "execute_result"
    }
   ],
   "source": [
    "len(\"selinisme\")"
   ]
  },
  {
   "cell_type": "markdown",
   "metadata": {},
   "source": [
    "indexler 0 dan başlar."
   ]
  },
  {
   "cell_type": "code",
   "execution_count": 25,
   "metadata": {},
   "outputs": [
    {
     "data": {
      "text/plain": [
       "'ingus'"
      ]
     },
     "execution_count": 25,
     "metadata": {},
     "output_type": "execute_result"
    }
   ],
   "source": [
    "#slicing(dilimleme)\n",
    "isim=\"stringus\"\n",
    "isim[3:]"
   ]
  },
  {
   "cell_type": "markdown",
   "metadata": {},
   "source": [
    "if -elif-else\n",
    "\n",
    "x=int(input(\"kullanicidan veri alimi\"))\n",
    "\n",
    "Ternary Conditionals !!"
   ]
  },
  {
   "cell_type": "markdown",
   "metadata": {},
   "source": [
    "# donguler-loops\n",
    "\n",
    "while-for-break-continue\n"
   ]
  },
  {
   "cell_type": "code",
   "execution_count": 3,
   "metadata": {},
   "outputs": [
    {
     "name": "stdout",
     "output_type": "stream",
     "text": [
      "sayiniz pozitif ve  5\n"
     ]
    }
   ],
   "source": [
    "#while\n",
    "x=int(input(\"bir sayi giriniz: \"))\n",
    "while x<0:\n",
    "    print(\"sayi negatif,lutfen pozitif bir sayi giriniz. \")\n",
    "    x=int(input(\"bir sayi girin :\"))\n",
    "print(\"sayiniz pozitif ve \",x)"
   ]
  },
  {
   "cell_type": "code",
   "execution_count": 1,
   "metadata": {},
   "outputs": [
    {
     "name": "stdout",
     "output_type": "stream",
     "text": [
      "b\n",
      "r\n",
      "o\n"
     ]
    }
   ],
   "source": [
    "for c in \"bro\":\n",
    "    print (c)"
   ]
  },
  {
   "cell_type": "markdown",
   "metadata": {},
   "source": [
    "# LIST"
   ]
  },
  {
   "cell_type": "code",
   "execution_count": 19,
   "metadata": {},
   "outputs": [
    {
     "data": {
      "text/plain": [
       "2"
      ]
     },
     "execution_count": 19,
     "metadata": {},
     "output_type": "execute_result"
    }
   ],
   "source": [
    "n= [1,2,\"sel\"]\n",
    "n[1]\n",
    "# listler mutable veri tipleridir. yani elemanları degiştirilebilir."
   ]
  },
  {
   "cell_type": "code",
   "execution_count": 20,
   "metadata": {},
   "outputs": [
    {
     "data": {
      "text/plain": [
       "[1, 2, 'sel', 'su']"
      ]
     },
     "execution_count": 20,
     "metadata": {},
     "output_type": "execute_result"
    }
   ],
   "source": [
    "# list sonuna veri eklemek > append()\n",
    "n.append(\"su\")\n",
    "n"
   ]
  },
  {
   "cell_type": "code",
   "execution_count": 21,
   "metadata": {},
   "outputs": [
    {
     "data": {
      "text/plain": [
       "[1, 2, 'sel', 'su', 'sulamak']"
      ]
     },
     "execution_count": 21,
     "metadata": {},
     "output_type": "execute_result"
    }
   ],
   "source": [
    "# listenin icine yazılan birden cok elemanı listenin sonuna ekler > extend([])\n",
    "n.extend([\"sulamak\"])\n",
    "n"
   ]
  },
  {
   "cell_type": "code",
   "execution_count": 23,
   "metadata": {},
   "outputs": [
    {
     "data": {
      "text/plain": [
       "1"
      ]
     },
     "execution_count": 23,
     "metadata": {},
     "output_type": "execute_result"
    }
   ],
   "source": [
    "#spesifik bir indexe eleman eklemek \n",
    "l=[1,2,3,4]\n",
    "l.insert(3,66)\n",
    "l\n",
    "l.index(2) # index degerini verir.\n"
   ]
  },
  {
   "cell_type": "markdown",
   "metadata": {},
   "source": [
    "remove() sadece ilk gordugu degeri siler. "
   ]
  },
  {
   "cell_type": "markdown",
   "metadata": {},
   "source": [
    "pop() listenin belirli indexindeki elemanı silmeye ve o degeri dondurmeye yarar."
   ]
  },
  {
   "cell_type": "markdown",
   "metadata": {},
   "source": [
    "count() icine yazdıgımız degerin listede kac defa gorundugunu dondurur."
   ]
  },
  {
   "cell_type": "markdown",
   "metadata": {},
   "source": [
    "aliasing ?"
   ]
  }
 ],
 "metadata": {
  "kernelspec": {
   "display_name": "Python 3",
   "language": "python",
   "name": "python3"
  },
  "language_info": {
   "codemirror_mode": {
    "name": "ipython",
    "version": 3
   },
   "file_extension": ".py",
   "mimetype": "text/x-python",
   "name": "python",
   "nbconvert_exporter": "python",
   "pygments_lexer": "ipython3",
   "version": "3.11.9"
  }
 },
 "nbformat": 4,
 "nbformat_minor": 2
}
