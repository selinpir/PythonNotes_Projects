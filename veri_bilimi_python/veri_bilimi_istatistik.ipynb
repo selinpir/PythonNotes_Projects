{
 "cells": [
  {
   "cell_type": "markdown",
   "id": "0933dbe8-209a-4b4e-98a5-6293b2da4037",
   "metadata": {},
   "source": [
    "# VERİ BİLİMİ İÇİN İSTATİSTİK"
   ]
  },
  {
   "cell_type": "markdown",
   "id": "473536e2-1cc0-4dc9-bdae-68faa5ef6e40",
   "metadata": {},
   "source": [
    "> ÖRNEK TEORİSİ"
   ]
  },
  {
   "cell_type": "code",
   "execution_count": 9,
   "id": "d1e5ed00-6263-46cf-a2cc-6a45e5780791",
   "metadata": {},
   "outputs": [],
   "source": [
    "import numpy as np"
   ]
  },
  {
   "cell_type": "code",
   "execution_count": 19,
   "id": "76998028-2d79-4d95-8ad8-be197ee6a9ac",
   "metadata": {},
   "outputs": [],
   "source": [
    "populasyon = np.random.randint(0,80,10000)"
   ]
  },
  {
   "cell_type": "code",
   "execution_count": 21,
   "id": "15764ed6-de21-4f4f-8816-95d6299cea8c",
   "metadata": {},
   "outputs": [
    {
     "data": {
      "text/plain": [
       "array([62, 14, 24,  7,  6, 32, 64, 72, 71, 21])"
      ]
     },
     "execution_count": 21,
     "metadata": {},
     "output_type": "execute_result"
    }
   ],
   "source": [
    "populasyon[0:10]"
   ]
  },
  {
   "cell_type": "code",
   "execution_count": 29,
   "id": "5fb3bdfe-e970-45ac-b945-56daea14a4aa",
   "metadata": {},
   "outputs": [
    {
     "data": {
      "text/plain": [
       "array([69, 43, 64, 54, 28, 32, 42, 27, 54, 49])"
      ]
     },
     "execution_count": 29,
     "metadata": {},
     "output_type": "execute_result"
    }
   ],
   "source": [
    "#orneklem cekimi\n",
    "np.random.seed(115)\n",
    "#her randomda aynı sayıyı getirebilir\n",
    "orneklem=np.random.choice(a=populasyon, size=100)\n",
    "orneklem[0:10]"
   ]
  },
  {
   "cell_type": "code",
   "execution_count": 31,
   "id": "849619c2-476e-47ef-9a83-99713db47570",
   "metadata": {},
   "outputs": [
    {
     "data": {
      "text/plain": [
       "41.14"
      ]
     },
     "execution_count": 31,
     "metadata": {},
     "output_type": "execute_result"
    }
   ],
   "source": [
    "#ortalama alma\n",
    "orneklem.mean()"
   ]
  },
  {
   "cell_type": "code",
   "execution_count": 33,
   "id": "d574d06c-61cb-4c4f-a7cb-c2ecf8b35bd4",
   "metadata": {},
   "outputs": [
    {
     "data": {
      "text/plain": [
       "39.6704"
      ]
     },
     "execution_count": 33,
     "metadata": {},
     "output_type": "execute_result"
    }
   ],
   "source": [
    "populasyon.mean()"
   ]
  },
  {
   "cell_type": "markdown",
   "id": "c8c5357f-2898-4a51-adc8-1a6ccf69ec1b",
   "metadata": {},
   "source": [
    "> ÖRNEKLEM DAĞILIMI"
   ]
  },
  {
   "cell_type": "code",
   "execution_count": 53,
   "id": "090b4e85-b6b8-4548-8394-68c4ef3fda19",
   "metadata": {},
   "outputs": [],
   "source": [
    "np.random.seed(10)\n",
    "orneklem1=np.random.choice(a=populasyon, size=100)\n",
    "orneklem2=np.random.choice(a=populasyon, size=100)\n",
    "orneklem3=np.random.choice(a=populasyon, size=100)\n",
    "orneklem4=np.random.choice(a=populasyon, size=100)\n",
    "orneklem5=np.random.choice(a=populasyon, size=100)\n",
    "orneklem6=np.random.choice(a=populasyon, size=100)\n",
    "orneklem7=np.random.choice(a=populasyon, size=100)\n",
    "orneklem8=np.random.choice(a=populasyon, size=100)\n",
    "orneklem9=np.random.choice(a=populasyon, size=100)\n",
    "orneklem10=np.random.choice(a=populasyon, size=100)"
   ]
  },
  {
   "cell_type": "code",
   "execution_count": 65,
   "id": "d3b1eee9-bf9f-4aec-bb33-e29382c833ae",
   "metadata": {},
   "outputs": [
    {
     "data": {
      "text/plain": [
       "39.269999999999996"
      ]
     },
     "execution_count": 65,
     "metadata": {},
     "output_type": "execute_result"
    }
   ],
   "source": [
    "( orneklem1.mean() + orneklem2.mean() + orneklem3.mean()+ orneklem4.mean()\n",
    " +orneklem5.mean()+ orneklem6.mean() + orneklem7.mean()+ orneklem8.mean()+\n",
    " orneklem9.mean()+ orneklem10.mean())/10"
   ]
  },
  {
   "cell_type": "markdown",
   "id": "7b2914d0-e676-46df-8814-d42cf6477395",
   "metadata": {},
   "source": [
    "# BETİMSEL İSTATİSTİKLER\n",
    "> ortlama\n",
    "\n",
    "> medyan\n",
    "\n",
    "> mod\n",
    "\n",
    "> kartiller\n",
    "\n",
    "> değişim aralığı\n",
    "\n",
    "> standart sapma\n",
    "\n",
    "> kovaryans : iki değişken arasındaki ilişkinin değişkenlik ölçüsüdür.\n",
    "\n",
    "> korelasyon : iki değişken arasındaki ilişkiyi, ilişkinin anlamlı olup olmadığını, ilişkinin şiddetini ve yönünü ifade eden istatistiksel bir tekniktir.\n"
   ]
  },
  {
   "cell_type": "code",
   "execution_count": null,
   "id": "c89cb872-c0b3-4a9b-b9ae-bf177f3e428d",
   "metadata": {},
   "outputs": [],
   "source": []
  }
 ],
 "metadata": {
  "kernelspec": {
   "display_name": "Python 3 (ipykernel)",
   "language": "python",
   "name": "python3"
  },
  "language_info": {
   "codemirror_mode": {
    "name": "ipython",
    "version": 3
   },
   "file_extension": ".py",
   "mimetype": "text/x-python",
   "name": "python",
   "nbconvert_exporter": "python",
   "pygments_lexer": "ipython3",
   "version": "3.12.4"
  }
 },
 "nbformat": 4,
 "nbformat_minor": 5
}
