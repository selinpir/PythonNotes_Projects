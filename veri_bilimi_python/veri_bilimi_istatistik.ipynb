{
 "cells": [
  {
   "cell_type": "markdown",
   "id": "0933dbe8-209a-4b4e-98a5-6293b2da4037",
   "metadata": {},
   "source": [
    "# VERİ BİLİMİ İÇİN İSTATİSTİK"
   ]
  },
  {
   "cell_type": "markdown",
   "id": "473536e2-1cc0-4dc9-bdae-68faa5ef6e40",
   "metadata": {},
   "source": [
    "> ÖRNEK TEORİSİ"
   ]
  },
  {
   "cell_type": "code",
   "execution_count": 9,
   "id": "d1e5ed00-6263-46cf-a2cc-6a45e5780791",
   "metadata": {},
   "outputs": [],
   "source": [
    "import numpy as np"
   ]
  },
  {
   "cell_type": "code",
   "execution_count": 19,
   "id": "76998028-2d79-4d95-8ad8-be197ee6a9ac",
   "metadata": {},
   "outputs": [],
   "source": [
    "populasyon = np.random.randint(0,80,10000)"
   ]
  },
  {
   "cell_type": "code",
   "execution_count": 21,
   "id": "15764ed6-de21-4f4f-8816-95d6299cea8c",
   "metadata": {},
   "outputs": [
    {
     "data": {
      "text/plain": [
       "array([62, 14, 24,  7,  6, 32, 64, 72, 71, 21])"
      ]
     },
     "execution_count": 21,
     "metadata": {},
     "output_type": "execute_result"
    }
   ],
   "source": [
    "populasyon[0:10]"
   ]
  },
  {
   "cell_type": "code",
   "execution_count": 29,
   "id": "5fb3bdfe-e970-45ac-b945-56daea14a4aa",
   "metadata": {},
   "outputs": [
    {
     "data": {
      "text/plain": [
       "array([69, 43, 64, 54, 28, 32, 42, 27, 54, 49])"
      ]
     },
     "execution_count": 29,
     "metadata": {},
     "output_type": "execute_result"
    }
   ],
   "source": [
    "#orneklem cekimi\n",
    "np.random.seed(115)\n",
    "#her randomda aynı sayıyı getirebilir\n",
    "orneklem=np.random.choice(a=populasyon, size=100)\n",
    "orneklem[0:10]"
   ]
  },
  {
   "cell_type": "code",
   "execution_count": 31,
   "id": "849619c2-476e-47ef-9a83-99713db47570",
   "metadata": {},
   "outputs": [
    {
     "data": {
      "text/plain": [
       "41.14"
      ]
     },
     "execution_count": 31,
     "metadata": {},
     "output_type": "execute_result"
    }
   ],
   "source": [
    "#ortalama alma\n",
    "orneklem.mean()"
   ]
  },
  {
   "cell_type": "code",
   "execution_count": 33,
   "id": "d574d06c-61cb-4c4f-a7cb-c2ecf8b35bd4",
   "metadata": {},
   "outputs": [
    {
     "data": {
      "text/plain": [
       "39.6704"
      ]
     },
     "execution_count": 33,
     "metadata": {},
     "output_type": "execute_result"
    }
   ],
   "source": [
    "populasyon.mean()"
   ]
  },
  {
   "cell_type": "markdown",
   "id": "c8c5357f-2898-4a51-adc8-1a6ccf69ec1b",
   "metadata": {},
   "source": [
    "> ÖRNEKLEM DAĞILIMI"
   ]
  },
  {
   "cell_type": "code",
   "execution_count": 53,
   "id": "090b4e85-b6b8-4548-8394-68c4ef3fda19",
   "metadata": {},
   "outputs": [],
   "source": [
    "np.random.seed(10)\n",
    "orneklem1=np.random.choice(a=populasyon, size=100)\n",
    "orneklem2=np.random.choice(a=populasyon, size=100)\n",
    "orneklem3=np.random.choice(a=populasyon, size=100)\n",
    "orneklem4=np.random.choice(a=populasyon, size=100)\n",
    "orneklem5=np.random.choice(a=populasyon, size=100)\n",
    "orneklem6=np.random.choice(a=populasyon, size=100)\n",
    "orneklem7=np.random.choice(a=populasyon, size=100)\n",
    "orneklem8=np.random.choice(a=populasyon, size=100)\n",
    "orneklem9=np.random.choice(a=populasyon, size=100)\n",
    "orneklem10=np.random.choice(a=populasyon, size=100)"
   ]
  },
  {
   "cell_type": "code",
   "execution_count": 65,
   "id": "d3b1eee9-bf9f-4aec-bb33-e29382c833ae",
   "metadata": {},
   "outputs": [
    {
     "data": {
      "text/plain": [
       "39.269999999999996"
      ]
     },
     "execution_count": 65,
     "metadata": {},
     "output_type": "execute_result"
    }
   ],
   "source": [
    "( orneklem1.mean() + orneklem2.mean() + orneklem3.mean()+ orneklem4.mean()\n",
    " +orneklem5.mean()+ orneklem6.mean() + orneklem7.mean()+ orneklem8.mean()+\n",
    " orneklem9.mean()+ orneklem10.mean())/10"
   ]
  },
  {
   "cell_type": "markdown",
   "id": "7b2914d0-e676-46df-8814-d42cf6477395",
   "metadata": {},
   "source": [
    "# BETİMSEL İSTATİSTİKLER\n",
    "> ortlama\n",
    "\n",
    "> medyan\n",
    "\n",
    "> mod\n",
    "\n",
    "> kartiller\n",
    "\n",
    "> değişim aralığı\n",
    "\n",
    "> standart sapma\n",
    "\n",
    "> kovaryans : iki değişken arasındaki ilişkinin değişkenlik ölçüsüdür.\n",
    "\n",
    "> korelasyon : iki değişken arasındaki ilişkiyi, ilişkinin anlamlı olup olmadığını, ilişkinin şiddetini ve yönünü ifade eden istatistiksel bir tekniktir.\n"
   ]
  },
  {
   "cell_type": "code",
   "execution_count": 2,
   "id": "7047c007-1061-4043-a2d0-0635a16f7505",
   "metadata": {},
   "outputs": [
    {
     "data": {
      "text/html": [
       "<div>\n",
       "<style scoped>\n",
       "    .dataframe tbody tr th:only-of-type {\n",
       "        vertical-align: middle;\n",
       "    }\n",
       "\n",
       "    .dataframe tbody tr th {\n",
       "        vertical-align: top;\n",
       "    }\n",
       "\n",
       "    .dataframe thead th {\n",
       "        text-align: right;\n",
       "    }\n",
       "</style>\n",
       "<table border=\"1\" class=\"dataframe\">\n",
       "  <thead>\n",
       "    <tr style=\"text-align: right;\">\n",
       "      <th></th>\n",
       "      <th>total_bill</th>\n",
       "      <th>tip</th>\n",
       "      <th>sex</th>\n",
       "      <th>smoker</th>\n",
       "      <th>day</th>\n",
       "      <th>time</th>\n",
       "      <th>size</th>\n",
       "    </tr>\n",
       "  </thead>\n",
       "  <tbody>\n",
       "    <tr>\n",
       "      <th>0</th>\n",
       "      <td>16.99</td>\n",
       "      <td>1.01</td>\n",
       "      <td>Female</td>\n",
       "      <td>No</td>\n",
       "      <td>Sun</td>\n",
       "      <td>Dinner</td>\n",
       "      <td>2</td>\n",
       "    </tr>\n",
       "    <tr>\n",
       "      <th>1</th>\n",
       "      <td>10.34</td>\n",
       "      <td>1.66</td>\n",
       "      <td>Male</td>\n",
       "      <td>No</td>\n",
       "      <td>Sun</td>\n",
       "      <td>Dinner</td>\n",
       "      <td>3</td>\n",
       "    </tr>\n",
       "    <tr>\n",
       "      <th>2</th>\n",
       "      <td>21.01</td>\n",
       "      <td>3.50</td>\n",
       "      <td>Male</td>\n",
       "      <td>No</td>\n",
       "      <td>Sun</td>\n",
       "      <td>Dinner</td>\n",
       "      <td>3</td>\n",
       "    </tr>\n",
       "    <tr>\n",
       "      <th>3</th>\n",
       "      <td>23.68</td>\n",
       "      <td>3.31</td>\n",
       "      <td>Male</td>\n",
       "      <td>No</td>\n",
       "      <td>Sun</td>\n",
       "      <td>Dinner</td>\n",
       "      <td>2</td>\n",
       "    </tr>\n",
       "    <tr>\n",
       "      <th>4</th>\n",
       "      <td>24.59</td>\n",
       "      <td>3.61</td>\n",
       "      <td>Female</td>\n",
       "      <td>No</td>\n",
       "      <td>Sun</td>\n",
       "      <td>Dinner</td>\n",
       "      <td>4</td>\n",
       "    </tr>\n",
       "  </tbody>\n",
       "</table>\n",
       "</div>"
      ],
      "text/plain": [
       "   total_bill   tip     sex smoker  day    time  size\n",
       "0       16.99  1.01  Female     No  Sun  Dinner     2\n",
       "1       10.34  1.66    Male     No  Sun  Dinner     3\n",
       "2       21.01  3.50    Male     No  Sun  Dinner     3\n",
       "3       23.68  3.31    Male     No  Sun  Dinner     2\n",
       "4       24.59  3.61  Female     No  Sun  Dinner     4"
      ]
     },
     "execution_count": 2,
     "metadata": {},
     "output_type": "execute_result"
    }
   ],
   "source": [
    "import seaborn as sns \n",
    "tips=sns.load_dataset(\"tips\")\n",
    "df=tips.copy()\n",
    "df.head()"
   ]
  },
  {
   "cell_type": "code",
   "execution_count": 6,
   "id": "df6e6688-4c1c-4c48-8f4a-be468065c56f",
   "metadata": {},
   "outputs": [
    {
     "data": {
      "text/html": [
       "<div>\n",
       "<style scoped>\n",
       "    .dataframe tbody tr th:only-of-type {\n",
       "        vertical-align: middle;\n",
       "    }\n",
       "\n",
       "    .dataframe tbody tr th {\n",
       "        vertical-align: top;\n",
       "    }\n",
       "\n",
       "    .dataframe thead th {\n",
       "        text-align: right;\n",
       "    }\n",
       "</style>\n",
       "<table border=\"1\" class=\"dataframe\">\n",
       "  <thead>\n",
       "    <tr style=\"text-align: right;\">\n",
       "      <th></th>\n",
       "      <th>count</th>\n",
       "      <th>mean</th>\n",
       "      <th>std</th>\n",
       "      <th>min</th>\n",
       "      <th>25%</th>\n",
       "      <th>50%</th>\n",
       "      <th>75%</th>\n",
       "      <th>max</th>\n",
       "    </tr>\n",
       "  </thead>\n",
       "  <tbody>\n",
       "    <tr>\n",
       "      <th>total_bill</th>\n",
       "      <td>244.0</td>\n",
       "      <td>19.785943</td>\n",
       "      <td>8.902412</td>\n",
       "      <td>3.07</td>\n",
       "      <td>13.3475</td>\n",
       "      <td>17.795</td>\n",
       "      <td>24.1275</td>\n",
       "      <td>50.81</td>\n",
       "    </tr>\n",
       "    <tr>\n",
       "      <th>tip</th>\n",
       "      <td>244.0</td>\n",
       "      <td>2.998279</td>\n",
       "      <td>1.383638</td>\n",
       "      <td>1.00</td>\n",
       "      <td>2.0000</td>\n",
       "      <td>2.900</td>\n",
       "      <td>3.5625</td>\n",
       "      <td>10.00</td>\n",
       "    </tr>\n",
       "    <tr>\n",
       "      <th>size</th>\n",
       "      <td>244.0</td>\n",
       "      <td>2.569672</td>\n",
       "      <td>0.951100</td>\n",
       "      <td>1.00</td>\n",
       "      <td>2.0000</td>\n",
       "      <td>2.000</td>\n",
       "      <td>3.0000</td>\n",
       "      <td>6.00</td>\n",
       "    </tr>\n",
       "  </tbody>\n",
       "</table>\n",
       "</div>"
      ],
      "text/plain": [
       "            count       mean       std   min      25%     50%      75%    max\n",
       "total_bill  244.0  19.785943  8.902412  3.07  13.3475  17.795  24.1275  50.81\n",
       "tip         244.0   2.998279  1.383638  1.00   2.0000   2.900   3.5625  10.00\n",
       "size        244.0   2.569672  0.951100  1.00   2.0000   2.000   3.0000   6.00"
      ]
     },
     "execution_count": 6,
     "metadata": {},
     "output_type": "execute_result"
    }
   ],
   "source": [
    "df.describe().T"
   ]
  },
  {
   "cell_type": "code",
   "execution_count": 86,
   "id": "967a4320-78ab-410e-9b33-591ca6f4b92a",
   "metadata": {},
   "outputs": [
    {
     "name": "stdout",
     "output_type": "stream",
     "text": [
      "Requirement already satisfied: researchpy in c:\\users\\selin\\anaconda3\\lib\\site-packages (0.3.6)\n",
      "Requirement already satisfied: scipy in c:\\users\\selin\\anaconda3\\lib\\site-packages (from researchpy) (1.13.1)\n",
      "Requirement already satisfied: numpy in c:\\users\\selin\\anaconda3\\lib\\site-packages (from researchpy) (1.26.4)\n",
      "Requirement already satisfied: pandas in c:\\users\\selin\\anaconda3\\lib\\site-packages (from researchpy) (2.2.2)\n",
      "Requirement already satisfied: statsmodels in c:\\users\\selin\\anaconda3\\lib\\site-packages (from researchpy) (0.14.2)\n",
      "Requirement already satisfied: patsy in c:\\users\\selin\\anaconda3\\lib\\site-packages (from researchpy) (0.5.6)\n",
      "Requirement already satisfied: python-dateutil>=2.8.2 in c:\\users\\selin\\anaconda3\\lib\\site-packages (from pandas->researchpy) (2.9.0.post0)\n",
      "Requirement already satisfied: pytz>=2020.1 in c:\\users\\selin\\anaconda3\\lib\\site-packages (from pandas->researchpy) (2024.1)\n",
      "Requirement already satisfied: tzdata>=2022.7 in c:\\users\\selin\\anaconda3\\lib\\site-packages (from pandas->researchpy) (2023.3)\n",
      "Requirement already satisfied: six in c:\\users\\selin\\anaconda3\\lib\\site-packages (from patsy->researchpy) (1.16.0)\n",
      "Requirement already satisfied: packaging>=21.3 in c:\\users\\selin\\anaconda3\\lib\\site-packages (from statsmodels->researchpy) (23.2)\n"
     ]
    }
   ],
   "source": [
    "!pip install researchpy\n",
    "import researchpy as rp"
   ]
  },
  {
   "cell_type": "code",
   "execution_count": 83,
   "id": "27fe2e43-18b8-47df-ac8d-614b2b17d228",
   "metadata": {},
   "outputs": [
    {
     "ename": "NameError",
     "evalue": "name 'rp' is not defined",
     "output_type": "error",
     "traceback": [
      "\u001b[1;31m---------------------------------------------------------------------------\u001b[0m",
      "\u001b[1;31mNameError\u001b[0m                                 Traceback (most recent call last)",
      "Cell \u001b[1;32mIn[83], line 1\u001b[0m\n\u001b[1;32m----> 1\u001b[0m rp\u001b[38;5;241m.\u001b[39msummary_cont(df[[\u001b[38;5;124m\"\u001b[39m\u001b[38;5;124mtotal_bill\u001b[39m\u001b[38;5;124m\"\u001b[39m,\u001b[38;5;124m\"\u001b[39m\u001b[38;5;124mtip\u001b[39m\u001b[38;5;124m\"\u001b[39m,\u001b[38;5;124m\"\u001b[39m\u001b[38;5;124msize\u001b[39m\u001b[38;5;124m\"\u001b[39m]])\n",
      "\u001b[1;31mNameError\u001b[0m: name 'rp' is not defined"
     ]
    }
   ],
   "source": [
    "rp.summary_cont(df[[\"total_bill\",\"tip\",\"size\"]])\n",
    "#cont sayısal degiskenler"
   ]
  },
  {
   "cell_type": "code",
   "execution_count": 24,
   "id": "849c2d4d-ac01-408c-a507-59929ca16ade",
   "metadata": {},
   "outputs": [
    {
     "data": {
      "text/html": [
       "<div>\n",
       "<style scoped>\n",
       "    .dataframe tbody tr th:only-of-type {\n",
       "        vertical-align: middle;\n",
       "    }\n",
       "\n",
       "    .dataframe tbody tr th {\n",
       "        vertical-align: top;\n",
       "    }\n",
       "\n",
       "    .dataframe thead th {\n",
       "        text-align: right;\n",
       "    }\n",
       "</style>\n",
       "<table border=\"1\" class=\"dataframe\">\n",
       "  <thead>\n",
       "    <tr style=\"text-align: right;\">\n",
       "      <th></th>\n",
       "      <th>Variable</th>\n",
       "      <th>Outcome</th>\n",
       "      <th>Count</th>\n",
       "      <th>Percent</th>\n",
       "    </tr>\n",
       "  </thead>\n",
       "  <tbody>\n",
       "    <tr>\n",
       "      <th>0</th>\n",
       "      <td>sex</td>\n",
       "      <td>Male</td>\n",
       "      <td>157</td>\n",
       "      <td>64.34</td>\n",
       "    </tr>\n",
       "    <tr>\n",
       "      <th>1</th>\n",
       "      <td></td>\n",
       "      <td>Female</td>\n",
       "      <td>87</td>\n",
       "      <td>35.66</td>\n",
       "    </tr>\n",
       "    <tr>\n",
       "      <th>2</th>\n",
       "      <td>smoker</td>\n",
       "      <td>No</td>\n",
       "      <td>151</td>\n",
       "      <td>61.89</td>\n",
       "    </tr>\n",
       "    <tr>\n",
       "      <th>3</th>\n",
       "      <td></td>\n",
       "      <td>Yes</td>\n",
       "      <td>93</td>\n",
       "      <td>38.11</td>\n",
       "    </tr>\n",
       "    <tr>\n",
       "      <th>4</th>\n",
       "      <td>day</td>\n",
       "      <td>Sat</td>\n",
       "      <td>87</td>\n",
       "      <td>35.66</td>\n",
       "    </tr>\n",
       "    <tr>\n",
       "      <th>5</th>\n",
       "      <td></td>\n",
       "      <td>Sun</td>\n",
       "      <td>76</td>\n",
       "      <td>31.15</td>\n",
       "    </tr>\n",
       "    <tr>\n",
       "      <th>6</th>\n",
       "      <td></td>\n",
       "      <td>Thur</td>\n",
       "      <td>62</td>\n",
       "      <td>25.41</td>\n",
       "    </tr>\n",
       "    <tr>\n",
       "      <th>7</th>\n",
       "      <td></td>\n",
       "      <td>Fri</td>\n",
       "      <td>19</td>\n",
       "      <td>7.79</td>\n",
       "    </tr>\n",
       "  </tbody>\n",
       "</table>\n",
       "</div>"
      ],
      "text/plain": [
       "  Variable Outcome  Count  Percent\n",
       "0      sex    Male    157    64.34\n",
       "1           Female     87    35.66\n",
       "2   smoker      No    151    61.89\n",
       "3              Yes     93    38.11\n",
       "4      day     Sat     87    35.66\n",
       "5              Sun     76    31.15\n",
       "6             Thur     62    25.41\n",
       "7              Fri     19     7.79"
      ]
     },
     "execution_count": 24,
     "metadata": {},
     "output_type": "execute_result"
    }
   ],
   "source": [
    "rp.summary_cat(df[[\"sex\",\"smoker\",\"day\"]])\n",
    "#cat kategorik değişkenler"
   ]
  },
  {
   "cell_type": "code",
   "execution_count": 26,
   "id": "23b03532-0227-4eb4-9645-89ea417c8e12",
   "metadata": {},
   "outputs": [
    {
     "data": {
      "text/html": [
       "<div>\n",
       "<style scoped>\n",
       "    .dataframe tbody tr th:only-of-type {\n",
       "        vertical-align: middle;\n",
       "    }\n",
       "\n",
       "    .dataframe tbody tr th {\n",
       "        vertical-align: top;\n",
       "    }\n",
       "\n",
       "    .dataframe thead th {\n",
       "        text-align: right;\n",
       "    }\n",
       "</style>\n",
       "<table border=\"1\" class=\"dataframe\">\n",
       "  <thead>\n",
       "    <tr style=\"text-align: right;\">\n",
       "      <th></th>\n",
       "      <th>tip</th>\n",
       "      <th>total_bill</th>\n",
       "    </tr>\n",
       "  </thead>\n",
       "  <tbody>\n",
       "    <tr>\n",
       "      <th>tip</th>\n",
       "      <td>1.914455</td>\n",
       "      <td>8.323502</td>\n",
       "    </tr>\n",
       "    <tr>\n",
       "      <th>total_bill</th>\n",
       "      <td>8.323502</td>\n",
       "      <td>79.252939</td>\n",
       "    </tr>\n",
       "  </tbody>\n",
       "</table>\n",
       "</div>"
      ],
      "text/plain": [
       "                 tip  total_bill\n",
       "tip         1.914455    8.323502\n",
       "total_bill  8.323502   79.252939"
      ]
     },
     "execution_count": 26,
     "metadata": {},
     "output_type": "execute_result"
    }
   ],
   "source": [
    "df[[\"tip\",\"total_bill\"]].cov()\n",
    "#kovaryans"
   ]
  },
  {
   "cell_type": "code",
   "execution_count": 28,
   "id": "8d3f3b2b-e902-4ab9-a105-78d4dbea5581",
   "metadata": {},
   "outputs": [
    {
     "data": {
      "text/html": [
       "<div>\n",
       "<style scoped>\n",
       "    .dataframe tbody tr th:only-of-type {\n",
       "        vertical-align: middle;\n",
       "    }\n",
       "\n",
       "    .dataframe tbody tr th {\n",
       "        vertical-align: top;\n",
       "    }\n",
       "\n",
       "    .dataframe thead th {\n",
       "        text-align: right;\n",
       "    }\n",
       "</style>\n",
       "<table border=\"1\" class=\"dataframe\">\n",
       "  <thead>\n",
       "    <tr style=\"text-align: right;\">\n",
       "      <th></th>\n",
       "      <th>tip</th>\n",
       "      <th>total_bill</th>\n",
       "    </tr>\n",
       "  </thead>\n",
       "  <tbody>\n",
       "    <tr>\n",
       "      <th>tip</th>\n",
       "      <td>1.000000</td>\n",
       "      <td>0.675734</td>\n",
       "    </tr>\n",
       "    <tr>\n",
       "      <th>total_bill</th>\n",
       "      <td>0.675734</td>\n",
       "      <td>1.000000</td>\n",
       "    </tr>\n",
       "  </tbody>\n",
       "</table>\n",
       "</div>"
      ],
      "text/plain": [
       "                 tip  total_bill\n",
       "tip         1.000000    0.675734\n",
       "total_bill  0.675734    1.000000"
      ]
     },
     "execution_count": 28,
     "metadata": {},
     "output_type": "execute_result"
    }
   ],
   "source": [
    "df[[\"tip\",\"total_bill\"]].corr()\n",
    "#korelasyon"
   ]
  },
  {
   "cell_type": "markdown",
   "id": "5a558374-7c0d-4153-80c4-8e8b631bbf84",
   "metadata": {},
   "source": [
    "# Fiyat Stratejisi Karar Destek Sistemi\n",
    "CEO fiyat belirleme konusunda bilimsel bir dayanak ve esneklik istiyor.\n",
    "Satıcı, alıcı ve bir ürün var. Alıcılara ürüne ne kadar ücret öderdiniz diye soruluyor. Optimum fiyat bilimsel ve esnek olarak bulunmak isteniyor.\n"
   ]
  },
  {
   "cell_type": "code",
   "execution_count": 31,
   "id": "dc43c22c-ede1-4a60-b328-a7fd56a7645b",
   "metadata": {},
   "outputs": [],
   "source": [
    "import numpy as np\n",
    "fiyatlar=np.random.randint(10,110,1000)"
   ]
  },
  {
   "cell_type": "code",
   "execution_count": 33,
   "id": "3d638005-1e2e-49e8-9df5-b1d56257b30c",
   "metadata": {},
   "outputs": [
    {
     "data": {
      "text/plain": [
       "58.54"
      ]
     },
     "execution_count": 33,
     "metadata": {},
     "output_type": "execute_result"
    }
   ],
   "source": [
    "fiyatlar.mean()\n",
    "#mean ortalamayı verir."
   ]
  },
  {
   "cell_type": "code",
   "execution_count": 35,
   "id": "81955e5a-8fc3-4553-9dbd-ebda00928289",
   "metadata": {},
   "outputs": [],
   "source": [
    "import statsmodels.stats.api as sms"
   ]
  },
  {
   "cell_type": "code",
   "execution_count": 37,
   "id": "e69dfd47-9356-4e96-8fc4-6abeaff8071b",
   "metadata": {},
   "outputs": [
    {
     "data": {
      "text/plain": [
       "(56.76319517188372, 60.316804828116275)"
      ]
     },
     "execution_count": 37,
     "metadata": {},
     "output_type": "execute_result"
    }
   ],
   "source": [
    "sms.DescrStatsW(fiyatlar).tconfint_mean()"
   ]
  },
  {
   "cell_type": "markdown",
   "id": "297e7f7f-db5e-469c-88e1-26e6964f997d",
   "metadata": {},
   "source": [
    "özet olarak 56 ve 60 arasında fiyat belirlenmelidir."
   ]
  },
  {
   "cell_type": "markdown",
   "id": "9a934919-8b8a-499c-adde-bdcbda2c0d43",
   "metadata": {},
   "source": [
    "# Bernoulli Dağılımı"
   ]
  },
  {
   "cell_type": "markdown",
   "id": "d08b3ff3-5ddc-44b8-8ace-96a7fb9edae0",
   "metadata": {},
   "source": [
    "$ {\\displaystyle f(k;p)=p^{k}(1-p)^{1-k}\\quad {\\text{for }}k\\in \\{0,1\\}}$\n",
    "\n",
    "\n",
    "$ {\\displaystyle \\operatorname {E} \\left(X\\right)=p}$\n",
    "\n",
    "$\\operatorname{ Var } [X]=pq=p(1-p)$\n"
   ]
  },
  {
   "cell_type": "code",
   "execution_count": 18,
   "id": "451a7cd0-0f22-4519-8418-f340bde2a8c1",
   "metadata": {},
   "outputs": [],
   "source": [
    "from scipy.stats import bernoulli"
   ]
  },
  {
   "cell_type": "code",
   "execution_count": 20,
   "id": "57e3f945-3a62-49a1-b227-37a6cbc3b689",
   "metadata": {},
   "outputs": [],
   "source": [
    "p=0.6 #tura gelme olasılığı - p iki sonuçlu bir olasılığı ifade eder"
   ]
  },
  {
   "cell_type": "code",
   "execution_count": 26,
   "id": "b865c449-3f6f-4a01-9220-7fe262a4d437",
   "metadata": {},
   "outputs": [
    {
     "data": {
      "text/plain": [
       "0.4000000000000001"
      ]
     },
     "execution_count": 26,
     "metadata": {},
     "output_type": "execute_result"
    }
   ],
   "source": [
    "rv=bernoulli(p)\n",
    "rv.pmf(k=0) "
   ]
  },
  {
   "cell_type": "markdown",
   "id": "44d766e4-525a-41f7-9ee7-55883d5b1778",
   "metadata": {},
   "source": [
    "# Büyük Sayılar Yasası"
   ]
  },
  {
   "cell_type": "markdown",
   "id": "2cbdbed4-dd0d-4927-9f81-abb999b79664",
   "metadata": {},
   "source": [
    "Bir rassal değişkenin uzun vadeli kararlılığını tanımlayan olasılık teoremidir."
   ]
  },
  {
   "cell_type": "code",
   "execution_count": 73,
   "id": "a893b9b3-7a85-46d2-87f7-38d0d90025d8",
   "metadata": {},
   "outputs": [
    {
     "name": "stdout",
     "output_type": "stream",
     "text": [
      "Atış Sayısı:  2 --- Yazı olasılığı: 50.00\n",
      "Atış Sayısı:  4 --- Yazı olasılığı: 0.00\n",
      "Atış Sayısı:  8 --- Yazı olasılığı: 62.50\n",
      "Atış Sayısı:  16 --- Yazı olasılığı: 43.75\n",
      "Atış Sayısı:  32 --- Yazı olasılığı: 46.88\n",
      "Atış Sayısı:  64 --- Yazı olasılığı: 56.25\n",
      "Atış Sayısı:  128 --- Yazı olasılığı: 50.78\n",
      "Atış Sayısı:  256 --- Yazı olasılığı: 52.73\n",
      "Atış Sayısı:  512 --- Yazı olasılığı: 52.93\n",
      "Atış Sayısı:  1024 --- Yazı olasılığı: 50.20\n",
      "Atış Sayısı:  2048 --- Yazı olasılığı: 48.58\n",
      "Atış Sayısı:  4096 --- Yazı olasılığı: 49.49\n",
      "Atış Sayısı:  8192 --- Yazı olasılığı: 49.58\n",
      "Atış Sayısı:  16384 --- Yazı olasılığı: 49.96\n",
      "Atış Sayısı:  32768 --- Yazı olasılığı: 50.00\n",
      "Atış Sayısı:  65536 --- Yazı olasılığı: 49.68\n",
      "Atış Sayısı:  131072 --- Yazı olasılığı: 49.97\n",
      "Atış Sayısı:  262144 --- Yazı olasılığı: 50.13\n",
      "Atış Sayısı:  524288 --- Yazı olasılığı: 50.01\n",
      "Atış Sayısı:  1048576 --- Yazı olasılığı: 50.09\n"
     ]
    }
   ],
   "source": [
    "import numpy as np\n",
    "rng = np.random.RandomState(123)\n",
    "for i in np.arange(1,21):\n",
    "    deney_sayisi=2**i\n",
    "    yazi_turalar=rng.randint(0,2,size=deney_sayisi)\n",
    "    yazi_olasiliklari=np.mean(yazi_turalar)\n",
    "    print(\"Atış Sayısı: \",deney_sayisi, \"---\", 'Yazı olasılığı: %.2f' % (yazi_olasiliklari*100))"
   ]
  },
  {
   "cell_type": "code",
   "execution_count": 65,
   "id": "6fa49add-b952-4404-ae23-4fd35a5d4def",
   "metadata": {},
   "outputs": [
    {
     "data": {
      "text/plain": [
       "0.2"
      ]
     },
     "execution_count": 65,
     "metadata": {},
     "output_type": "execute_result"
    }
   ],
   "source": [
    "1/5"
   ]
  },
  {
   "cell_type": "markdown",
   "id": "885e7592-a121-4fcf-903e-9279b1c05666",
   "metadata": {},
   "source": [
    "# Binom Dağılımı"
   ]
  },
  {
   "cell_type": "code",
   "execution_count": 80,
   "id": "5c2b4e2b-534f-4d1d-88ae-a8f474a98773",
   "metadata": {
    "scrolled": true
   },
   "outputs": [
    {
     "name": "stdout",
     "output_type": "stream",
     "text": [
      "0.36972963764972666\n",
      "0.002897787123761478\n",
      "7.006035693977194e-08\n"
     ]
    }
   ],
   "source": [
    "from scipy.stats import binom\n",
    "p=0.01\n",
    "n=100\n",
    "rv=binom(n,p)\n",
    "print(rv.pmf(1))\n",
    "print(rv.pmf(5))\n",
    "print(rv.pmf(10))"
   ]
  },
  {
   "cell_type": "markdown",
   "id": "d035ba73-aea9-4b3a-90a8-a636731e2d99",
   "metadata": {},
   "source": [
    "# Poisson Dağılımı"
   ]
  },
  {
   "cell_type": "code",
   "execution_count": 93,
   "id": "be723922-5357-416e-a246-ca7a2b37ee17",
   "metadata": {},
   "outputs": [
    {
     "name": "stdout",
     "output_type": "stream",
     "text": [
      "1-> 0.9048374180359595\n",
      "2-> 0.00015080623633932676\n",
      "3-> 7.54031181696634e-08\n"
     ]
    }
   ],
   "source": [
    "from scipy.stats import poisson\n",
    "lambda_=0.1\n",
    "rv=poisson(mu=lambda_)\n",
    "print(\"1->\",rv.pmf(k=0))\n",
    "print(\"2->\",rv.pmf(k=3))\n",
    "print(\"3->\",rv.pmf(k=5))"
   ]
  },
  {
   "cell_type": "markdown",
   "id": "f469531e-5c10-42b0-88cc-bf4281f7f6a8",
   "metadata": {},
   "source": [
    "# Normal Dağılım"
   ]
  },
  {
   "cell_type": "code",
   "execution_count": 102,
   "id": "28447210-2086-4ed6-ba57-4bd89bc84769",
   "metadata": {},
   "outputs": [],
   "source": [
    "from scipy.stats import norm"
   ]
  },
  {
   "cell_type": "markdown",
   "id": "59aaa011-7cb5-4570-a1e3-f54ee3a1ec07",
   "metadata": {},
   "source": [
    "90 dan fazla olma olasılığı"
   ]
  },
  {
   "cell_type": "code",
   "execution_count": 104,
   "id": "b271bed5-658d-4979-bf3f-a068798ec750",
   "metadata": {},
   "outputs": [
    {
     "data": {
      "text/plain": [
       "0.02275013194817921"
      ]
     },
     "execution_count": 104,
     "metadata": {},
     "output_type": "execute_result"
    }
   ],
   "source": [
    "1-norm.cdf(90,80,5) #norm.cdf(x, loc, scale)"
   ]
  },
  {
   "cell_type": "markdown",
   "id": "f57238dd-c601-4337-92b1-8ab8ad7ddddf",
   "metadata": {},
   "source": [
    "70 den fazla olma olasılığı"
   ]
  },
  {
   "cell_type": "code",
   "execution_count": 108,
   "id": "774b34b5-51a4-4282-a799-5d80edbb3247",
   "metadata": {},
   "outputs": [
    {
     "data": {
      "text/plain": [
       "0.9772498680518208"
      ]
     },
     "execution_count": 108,
     "metadata": {},
     "output_type": "execute_result"
    }
   ],
   "source": [
    "1-norm.cdf(70,80,5)"
   ]
  },
  {
   "cell_type": "markdown",
   "id": "3d1e8098-d3db-4824-8e5b-8bb52ba0a15b",
   "metadata": {},
   "source": [
    "85 ile 90 arasında olma olasılığı"
   ]
  },
  {
   "cell_type": "code",
   "execution_count": 111,
   "id": "ce40423e-b6a4-4b56-baa8-4f5284503356",
   "metadata": {},
   "outputs": [
    {
     "data": {
      "text/plain": [
       "0.13590512198327787"
      ]
     },
     "execution_count": 111,
     "metadata": {},
     "output_type": "execute_result"
    }
   ],
   "source": [
    "norm.cdf(90,80,5)-norm.cdf(85,80,5)"
   ]
  },
  {
   "cell_type": "code",
   "execution_count": null,
   "id": "dbab0584-f69f-43ed-ba9d-44b0c52aecc2",
   "metadata": {},
   "outputs": [],
   "source": []
  }
 ],
 "metadata": {
  "kernelspec": {
   "display_name": "Python 3 (ipykernel)",
   "language": "python",
   "name": "python3"
  },
  "language_info": {
   "codemirror_mode": {
    "name": "ipython",
    "version": 3
   },
   "file_extension": ".py",
   "mimetype": "text/x-python",
   "name": "python",
   "nbconvert_exporter": "python",
   "pygments_lexer": "ipython3",
   "version": "3.12.4"
  }
 },
 "nbformat": 4,
 "nbformat_minor": 5
}
